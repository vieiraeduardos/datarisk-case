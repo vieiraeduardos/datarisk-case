{
 "cells": [
  {
   "cell_type": "markdown",
   "source": [
    "Libraries used"
   ],
   "metadata": {}
  },
  {
   "cell_type": "code",
   "execution_count": 37,
   "source": [
    "import os\r\n",
    "import pickle\r\n",
    "\r\n",
    "import pandas as pd\r\n",
    "import numpy as np\r\n",
    "\r\n",
    "from xgboost import XGBClassifier\r\n",
    "\r\n",
    "from sklearn.model_selection import StratifiedKFold\r\n",
    "from sklearn.impute import SimpleImputer\r\n",
    "from sklearn.preprocessing import StandardScaler\r\n",
    "\r\n",
    "from sklearn.metrics import f1_score\r\n",
    "from sklearn.metrics import precision_score\r\n",
    "from sklearn.metrics import recall_score\r\n",
    "from sklearn.metrics import accuracy_score\r\n",
    "from sklearn.metrics import roc_auc_score"
   ],
   "outputs": [],
   "metadata": {}
  },
  {
   "cell_type": "markdown",
   "source": [
    "Train Data Overview"
   ],
   "metadata": {}
  },
  {
   "cell_type": "code",
   "execution_count": 38,
   "source": [
    "path_file = \"Datasets/treino.csv\"\r\n",
    "\r\n",
    "train_df = pd.read_csv(path_file)"
   ],
   "outputs": [],
   "metadata": {}
  },
  {
   "cell_type": "code",
   "execution_count": 39,
   "source": [
    "print('Total Rows: {}\\nTotal Columns: {}'.format(train_df.shape[0], train_df.shape[1]))\r\n",
    "print('Columns: ', train_df.columns[0], train_df.columns[1], train_df.columns[2], train_df.columns[3])\r\n",
    "print('Size of Train file in GB \\'{}\\' '.format(os.path.getsize(path_file)/10**9))"
   ],
   "outputs": [
    {
     "output_type": "stream",
     "name": "stdout",
     "text": [
      "Total Rows: 110000\n",
      "Total Columns: 11\n",
      "Columns:  inadimplente util_linhas_inseguras idade vezes_passou_de_30_59_dias\n",
      "Size of Train file in GB '0.005595578' \n"
     ]
    }
   ],
   "metadata": {}
  },
  {
   "cell_type": "code",
   "execution_count": 40,
   "source": [
    "train_df.head()"
   ],
   "outputs": [
    {
     "output_type": "execute_result",
     "data": {
      "text/html": [
       "<div>\n",
       "<style scoped>\n",
       "    .dataframe tbody tr th:only-of-type {\n",
       "        vertical-align: middle;\n",
       "    }\n",
       "\n",
       "    .dataframe tbody tr th {\n",
       "        vertical-align: top;\n",
       "    }\n",
       "\n",
       "    .dataframe thead th {\n",
       "        text-align: right;\n",
       "    }\n",
       "</style>\n",
       "<table border=\"1\" class=\"dataframe\">\n",
       "  <thead>\n",
       "    <tr style=\"text-align: right;\">\n",
       "      <th></th>\n",
       "      <th>inadimplente</th>\n",
       "      <th>util_linhas_inseguras</th>\n",
       "      <th>idade</th>\n",
       "      <th>vezes_passou_de_30_59_dias</th>\n",
       "      <th>razao_debito</th>\n",
       "      <th>salario_mensal</th>\n",
       "      <th>numero_linhas_crdto_aberto</th>\n",
       "      <th>numero_vezes_passou_90_dias</th>\n",
       "      <th>numero_emprestimos_imobiliarios</th>\n",
       "      <th>numero_de_vezes_que_passou_60_89_dias</th>\n",
       "      <th>numero_de_dependentes</th>\n",
       "    </tr>\n",
       "  </thead>\n",
       "  <tbody>\n",
       "    <tr>\n",
       "      <th>0</th>\n",
       "      <td>1</td>\n",
       "      <td>0.766127</td>\n",
       "      <td>45</td>\n",
       "      <td>2</td>\n",
       "      <td>0.802982</td>\n",
       "      <td>9120.0</td>\n",
       "      <td>13</td>\n",
       "      <td>0</td>\n",
       "      <td>6</td>\n",
       "      <td>0</td>\n",
       "      <td>2.0</td>\n",
       "    </tr>\n",
       "    <tr>\n",
       "      <th>1</th>\n",
       "      <td>0</td>\n",
       "      <td>0.957151</td>\n",
       "      <td>40</td>\n",
       "      <td>0</td>\n",
       "      <td>0.121876</td>\n",
       "      <td>2600.0</td>\n",
       "      <td>4</td>\n",
       "      <td>0</td>\n",
       "      <td>0</td>\n",
       "      <td>0</td>\n",
       "      <td>1.0</td>\n",
       "    </tr>\n",
       "    <tr>\n",
       "      <th>2</th>\n",
       "      <td>0</td>\n",
       "      <td>0.658180</td>\n",
       "      <td>38</td>\n",
       "      <td>1</td>\n",
       "      <td>0.085113</td>\n",
       "      <td>3042.0</td>\n",
       "      <td>2</td>\n",
       "      <td>1</td>\n",
       "      <td>0</td>\n",
       "      <td>0</td>\n",
       "      <td>0.0</td>\n",
       "    </tr>\n",
       "    <tr>\n",
       "      <th>3</th>\n",
       "      <td>0</td>\n",
       "      <td>0.233810</td>\n",
       "      <td>30</td>\n",
       "      <td>0</td>\n",
       "      <td>0.036050</td>\n",
       "      <td>3300.0</td>\n",
       "      <td>5</td>\n",
       "      <td>0</td>\n",
       "      <td>0</td>\n",
       "      <td>0</td>\n",
       "      <td>0.0</td>\n",
       "    </tr>\n",
       "    <tr>\n",
       "      <th>4</th>\n",
       "      <td>0</td>\n",
       "      <td>0.907239</td>\n",
       "      <td>49</td>\n",
       "      <td>1</td>\n",
       "      <td>0.024926</td>\n",
       "      <td>63588.0</td>\n",
       "      <td>7</td>\n",
       "      <td>0</td>\n",
       "      <td>1</td>\n",
       "      <td>0</td>\n",
       "      <td>0.0</td>\n",
       "    </tr>\n",
       "  </tbody>\n",
       "</table>\n",
       "</div>"
      ],
      "text/plain": [
       "   inadimplente  util_linhas_inseguras  idade  vezes_passou_de_30_59_dias  \\\n",
       "0             1               0.766127     45                           2   \n",
       "1             0               0.957151     40                           0   \n",
       "2             0               0.658180     38                           1   \n",
       "3             0               0.233810     30                           0   \n",
       "4             0               0.907239     49                           1   \n",
       "\n",
       "   razao_debito  salario_mensal  numero_linhas_crdto_aberto  \\\n",
       "0      0.802982          9120.0                          13   \n",
       "1      0.121876          2600.0                           4   \n",
       "2      0.085113          3042.0                           2   \n",
       "3      0.036050          3300.0                           5   \n",
       "4      0.024926         63588.0                           7   \n",
       "\n",
       "   numero_vezes_passou_90_dias  numero_emprestimos_imobiliarios  \\\n",
       "0                            0                                6   \n",
       "1                            0                                0   \n",
       "2                            1                                0   \n",
       "3                            0                                0   \n",
       "4                            0                                1   \n",
       "\n",
       "   numero_de_vezes_que_passou_60_89_dias  numero_de_dependentes  \n",
       "0                                      0                    2.0  \n",
       "1                                      0                    1.0  \n",
       "2                                      0                    0.0  \n",
       "3                                      0                    0.0  \n",
       "4                                      0                    0.0  "
      ]
     },
     "metadata": {},
     "execution_count": 40
    }
   ],
   "metadata": {}
  },
  {
   "cell_type": "markdown",
   "source": [
    "Performance metric used"
   ],
   "metadata": {}
  },
  {
   "cell_type": "markdown",
   "source": [
    "&nbsp; &nbsp; 1. F1 Score: https://scikit-learn.org/stable/modules/generated/sklearn.metrics.f1_score.html\r\n",
    "\r\n",
    "&nbsp; &nbsp; 2. Precision: https://scikit-learn.org/stable/modules/generated/sklearn.metrics.precision_score.html\r\n",
    "\r\n",
    "&nbsp; &nbsp; 3. Recall: https://scikit-learn.org/stable/modules/generated/sklearn.metrics.recall_score.html\r\n",
    "\r\n",
    "&nbsp; &nbsp; 4. Accuracy: https://scikit-learn.org/stable/modules/generated/sklearn.metrics.accuracy_score.html\r\n",
    "\r\n",
    "&nbsp; &nbsp; 5. AUC: https://scikit-learn.org/stable/modules/generated/sklearn.metrics.roc_auc_score.html"
   ],
   "metadata": {}
  },
  {
   "cell_type": "markdown",
   "source": [
    "Exploratory Data Analysis"
   ],
   "metadata": {}
  },
  {
   "cell_type": "code",
   "execution_count": 41,
   "source": [
    "print(train_df.shape)\r\n",
    "print(train_df.columns)"
   ],
   "outputs": [
    {
     "output_type": "stream",
     "name": "stdout",
     "text": [
      "(110000, 11)\n",
      "Index(['inadimplente', 'util_linhas_inseguras', 'idade',\n",
      "       'vezes_passou_de_30_59_dias', 'razao_debito', 'salario_mensal',\n",
      "       'numero_linhas_crdto_aberto', 'numero_vezes_passou_90_dias',\n",
      "       'numero_emprestimos_imobiliarios',\n",
      "       'numero_de_vezes_que_passou_60_89_dias', 'numero_de_dependentes'],\n",
      "      dtype='object')\n"
     ]
    }
   ],
   "metadata": {}
  },
  {
   "cell_type": "code",
   "execution_count": 42,
   "source": [
    "data_copy = train_df.copy()\r\n",
    "duplicates = data_copy.duplicated(train_df.columns)\r\n",
    "       \r\n",
    "print('Total Duplicates:',duplicates.sum())\r\n",
    "print('-'*50,'Removing Duplicates','-'*50)\r\n",
    "\r\n",
    "data_copy = data_copy[~duplicates]\r\n",
    "\r\n",
    "print('Shape of Data Frame Now',data_copy.shape)"
   ],
   "outputs": [
    {
     "output_type": "stream",
     "name": "stdout",
     "text": [
      "Total Duplicates: 363\n",
      "-------------------------------------------------- Removing Duplicates --------------------------------------------------\n",
      "Shape of Data Frame Now (109637, 11)\n"
     ]
    }
   ],
   "metadata": {}
  },
  {
   "cell_type": "code",
   "execution_count": 57,
   "source": [
    "train_df = data_copy"
   ],
   "outputs": [],
   "metadata": {}
  },
  {
   "cell_type": "markdown",
   "source": [
    "Analyzing class distribution"
   ],
   "metadata": {}
  },
  {
   "cell_type": "code",
   "execution_count": 46,
   "source": [
    "train_df.inadimplente.value_counts()"
   ],
   "outputs": [
    {
     "output_type": "execute_result",
     "data": {
      "text/plain": [
       "0    102319\n",
       "1      7318\n",
       "Name: inadimplente, dtype: int64"
      ]
     },
     "metadata": {},
     "execution_count": 46
    }
   ],
   "metadata": {}
  },
  {
   "cell_type": "markdown",
   "source": [
    "Observação: A accuracy deve ser usada em datasets com a mesma proporção de exemplos para cada classe, e quando as penalidades de acerto e erro para cada classe forem as mesmas. Em problemas com classes desproporcionais, ela causa uma falsa impressão de bom desempenho. Por exemplo, no nosso dataset 93,32% dos exemplos pertençam a classe 0 (não inadiplente), só de classificar todos os exemplos naquela classe já se atinge uma precisão de mais 93%, mesmo que todos os exemplos da outra classe estejam classificados incorretamente. Dessa forma, vamos escolher a métrica AUC (Area Under the ROC Curve). Esta é uma métrica interessante para tarefas com classes desproporcionais. Nela, mede-se a área sob uma curva formada pelo gráfico entre a taxa de exemplos positivos, que realmente são positivos, e a taxa de falsos positivos."
   ],
   "metadata": {}
  },
  {
   "cell_type": "markdown",
   "source": [
    "Analyzing salario_mensal column "
   ],
   "metadata": {}
  },
  {
   "cell_type": "code",
   "execution_count": 47,
   "source": [
    "print(\"Describing salario_medio column\")\r\n",
    "print(train_df.salario_mensal.describe())"
   ],
   "outputs": [
    {
     "output_type": "stream",
     "name": "stdout",
     "text": [
      "Describing salario_medio column\n",
      "count    8.817700e+04\n",
      "mean     6.641456e+03\n",
      "std      1.338760e+04\n",
      "min      0.000000e+00\n",
      "25%      3.400000e+03\n",
      "50%      5.400000e+03\n",
      "75%      8.233000e+03\n",
      "max      3.008750e+06\n",
      "Name: salario_mensal, dtype: float64\n"
     ]
    }
   ],
   "metadata": {}
  },
  {
   "cell_type": "markdown",
   "source": [
    "Personas"
   ],
   "metadata": {}
  },
  {
   "cell_type": "code",
   "execution_count": 48,
   "source": [
    "print(\"Defaulter´s persona\")\r\n",
    "print(\"Average salario_mensal: %.2f\" % train_df[train_df.inadimplente == 1].salario_mensal.mean())\r\n",
    "print(\"Average idade: %.2f\" % train_df[train_df.inadimplente == 1].idade.mean())\r\n",
    "print(\"Average numero_emprestimos_imobiliarios: %.2f\" % train_df[train_df.inadimplente == 1].numero_emprestimos_imobiliarios.mean())\r\n",
    "print(\"Average numero_vezes_passou_90_dias: %.2f\" % train_df[train_df.inadimplente == 1].numero_vezes_passou_90_dias.mean())\r\n",
    "print(\"Average util_linhas_inseguras: %.2f\" % train_df[train_df.inadimplente == 1].util_linhas_inseguras.mean())\r\n",
    "print(\"Average vezes_passou_de_30_59_dias: %.2f\" % train_df[train_df.inadimplente == 1].vezes_passou_de_30_59_dias.mean())\r\n",
    "print(\"Average razao_debito: %.2f\" % train_df[train_df.inadimplente == 1].razao_debito.mean())\r\n",
    "print(\"Average numero_linhas_crdto_aberto: %.2f\" % train_df[train_df.inadimplente == 1].numero_linhas_crdto_aberto.mean())\r\n",
    "print(\"Average numero_de_vezes_que_passou_60_89_dias: %.2f\" % train_df[train_df.inadimplente == 1].numero_de_vezes_que_passou_60_89_dias.mean())\r\n"
   ],
   "outputs": [
    {
     "output_type": "stream",
     "name": "stdout",
     "text": [
      "Defaulter´s persona\n",
      "Average salario_mensal: 5642.13\n",
      "Average idade: 45.96\n",
      "Average numero_emprestimos_imobiliarios: 0.99\n",
      "Average numero_vezes_passou_90_dias: 2.00\n",
      "Average util_linhas_inseguras: 2.85\n",
      "Average vezes_passou_de_30_59_dias: 2.30\n",
      "Average razao_debito: 304.65\n",
      "Average numero_linhas_crdto_aberto: 7.90\n",
      "Average numero_de_vezes_que_passou_60_89_dias: 1.74\n"
     ]
    }
   ],
   "metadata": {}
  },
  {
   "cell_type": "code",
   "execution_count": 49,
   "source": [
    "print(\"Non defaulter´s persona\")\r\n",
    "print(\"Average salario_mensal: %.2f\" % train_df[train_df.inadimplente == 0].salario_mensal.mean())\r\n",
    "print(\"Average idade: %.2f\" % train_df[train_df.inadimplente == 0].idade.mean())\r\n",
    "print(\"Average numero_emprestimos_imobiliarios: %.2f\" % train_df[train_df.inadimplente == 0].numero_emprestimos_imobiliarios.mean())\r\n",
    "print(\"Average numero_vezes_passou_90_dias: %.2f\" % train_df[train_df.inadimplente == 0].numero_vezes_passou_90_dias.mean())\r\n",
    "print(\"Average util_linhas_inseguras: %.2f\" % train_df[train_df.inadimplente == 0].util_linhas_inseguras.mean())\r\n",
    "print(\"Average vezes_passou_de_30_59_dias: %.2f\" % train_df[train_df.inadimplente == 0].vezes_passou_de_30_59_dias.mean())\r\n",
    "print(\"Average razao_debito: %.2f\" % train_df[train_df.inadimplente == 0].razao_debito.mean())\r\n",
    "print(\"Average numero_linhas_crdto_aberto: %.2f\" % train_df[train_df.inadimplente == 0].numero_linhas_crdto_aberto.mean())\r\n",
    "print(\"Average numero_de_vezes_que_passou_60_89_dias: %.2f\" % train_df[train_df.inadimplente == 0].numero_de_vezes_que_passou_60_89_dias.mean())\r\n"
   ],
   "outputs": [
    {
     "output_type": "stream",
     "name": "stdout",
     "text": [
      "Non defaulter´s persona\n",
      "Average salario_mensal: 6715.49\n",
      "Average idade: 52.72\n",
      "Average numero_emprestimos_imobiliarios: 1.03\n",
      "Average numero_vezes_passou_90_dias: 0.12\n",
      "Average util_linhas_inseguras: 6.17\n",
      "Average vezes_passou_de_30_59_dias: 0.26\n",
      "Average razao_debito: 359.67\n",
      "Average numero_linhas_crdto_aberto: 8.51\n",
      "Average numero_de_vezes_que_passou_60_89_dias: 0.11\n"
     ]
    }
   ],
   "metadata": {}
  },
  {
   "cell_type": "markdown",
   "source": [
    "Pre-Processing"
   ],
   "metadata": {}
  },
  {
   "cell_type": "code",
   "execution_count": 68,
   "source": [
    "X = train_df[['util_linhas_inseguras', 'idade', 'vezes_passou_de_30_59_dias', 'razao_debito', 'salario_mensal', 'numero_linhas_crdto_aberto', 'numero_vezes_passou_90_dias', 'numero_emprestimos_imobiliarios', 'numero_de_vezes_que_passou_60_89_dias', 'numero_de_dependentes']]\r\n",
    "y = train_df[\"inadimplente\"]"
   ],
   "outputs": [],
   "metadata": {}
  },
  {
   "cell_type": "code",
   "execution_count": 69,
   "source": [
    "imp = SimpleImputer(missing_values=np.nan, strategy='constant', fill_value=0)\r\n",
    "\r\n",
    "X = imp.fit_transform(X)\r\n",
    "\r\n",
    "X.shape"
   ],
   "outputs": [
    {
     "output_type": "execute_result",
     "data": {
      "text/plain": [
       "(109637, 10)"
      ]
     },
     "metadata": {},
     "execution_count": 69
    }
   ],
   "metadata": {}
  },
  {
   "cell_type": "code",
   "execution_count": 70,
   "source": [
    "scaler = StandardScaler()\r\n",
    "\r\n",
    "X = scaler.fit_transform(X)\r\n",
    "\r\n",
    "X.shape"
   ],
   "outputs": [
    {
     "output_type": "execute_result",
     "data": {
      "text/plain": [
       "(109637, 10)"
      ]
     },
     "metadata": {},
     "execution_count": 70
    }
   ],
   "metadata": {}
  },
  {
   "cell_type": "markdown",
   "source": [
    "Model"
   ],
   "metadata": {}
  },
  {
   "cell_type": "code",
   "execution_count": 71,
   "source": [
    "class Metrics():\r\n",
    "    def get_results(self, y_true, y_pred):\r\n",
    "        f1 = f1_score(y_true, y_pred, zero_division=1)\r\n",
    "        precision = precision_score(y_true, y_pred, zero_division=1)\r\n",
    "        recall = recall_score(y_true, y_pred, zero_division=1)\r\n",
    "        accuracy = accuracy_score(y_true, y_pred)\r\n",
    "        auc = roc_auc_score(y_true, y_pred)\r\n",
    "\r\n",
    "        return f1, precision, recall, accuracy, auc\r\n"
   ],
   "outputs": [],
   "metadata": {}
  },
  {
   "cell_type": "code",
   "execution_count": 72,
   "source": [
    "kf = StratifiedKFold(n_splits=10)\r\n",
    "\r\n",
    "metrics = Metrics()\r\n",
    "n_fold = 1\r\n",
    "best_result = {\"F1\": 0, \"Precision\": 0, \"Recall\": 0, \"Accuracy\": 0, \"AUC\": 0}\r\n",
    "\r\n",
    "for train_index, test_index in kf.split(X, y):\r\n",
    "    X_train, X_test = X[train_index], X[test_index]\r\n",
    "    y_train, y_test = y.iloc[train_index], y.iloc[test_index]\r\n",
    "\r\n",
    "    model = XGBClassifier(use_label_encoder=False, eval_metric='mlogloss')\r\n",
    "    model.fit(X_train, y_train)\r\n",
    "\r\n",
    "    y_pred = model.predict(X_test)\r\n",
    "\r\n",
    "    f1, precision, recall, accuracy, auc = metrics.get_results(y_test, y_pred)\r\n",
    "\r\n",
    "    print(f\"Score at fold {n_fold}: F1-Score = {f1} Precision = {precision} Recall = {recall} Accuracy = {accuracy} AUC = {auc}\")\r\n",
    "\r\n",
    "    if best_result[\"AUC\"] < auc:\r\n",
    "        best_result = {\"F1\": f1, \"Precision\": precision, \"Recall\": recall, \"Accuracy\": accuracy, \"AUC\": auc}\r\n",
    "\r\n",
    "        pickle.dump(model, open(\"model.sav\", 'wb'))\r\n",
    "\r\n",
    "    n_fold += 1\r\n",
    "\r\n",
    "print(\"Best Results\")\r\n",
    "print(best_result)"
   ],
   "outputs": [
    {
     "output_type": "stream",
     "name": "stdout",
     "text": [
      "Score at fold 1: F1-Score = 0.27208121827411175 Precision = 0.5296442687747036 Recall = 0.1830601092896175 Accuracy = 0.9346041590660343 AUC = 0.5857149647308134\n",
      "Score at fold 2: F1-Score = 0.2814667988107037 Precision = 0.5126353790613718 Recall = 0.19398907103825136 Accuracy = 0.9338744983582634 AUC = 0.590397584776358\n",
      "Score at fold 3: F1-Score = 0.274390243902439 Precision = 0.5357142857142857 Recall = 0.18442622950819673 Accuracy = 0.9348777818314484 AUC = 0.5864957574436996\n",
      "Score at fold 4: F1-Score = 0.2702149437052201 Precision = 0.5387755102040817 Recall = 0.18032786885245902 Accuracy = 0.9349689894199197 AUC = 0.5846420423230239\n",
      "Score at fold 5: F1-Score = 0.2900919305413687 Precision = 0.5748987854251012 Recall = 0.19398907103825136 Accuracy = 0.9366107260124042 AUC = 0.5918635738303064\n",
      "Score at fold 6: F1-Score = 0.3023023023023023 Precision = 0.5655430711610487 Recall = 0.2062841530054645 Accuracy = 0.9364283108354615 AUC = 0.5974735854941318\n",
      "Score at fold 7: F1-Score = 0.2716297786720322 Precision = 0.5152671755725191 Recall = 0.18442622950819673 Accuracy = 0.9339657059467348 AUC = 0.5860070944257167\n",
      "Score at fold 8: F1-Score = 0.3153692614770459 Precision = 0.5851851851851851 Recall = 0.21584699453551912 Accuracy = 0.9374258870747059 AUC = 0.6024499365210094\n",
      "Score at fold 9: F1-Score = 0.26104830421377184 Precision = 0.5247933884297521 Recall = 0.17373461012311903 Accuracy = 0.9344157621089118 AUC = 0.5812476803547574\n",
      "Score at fold 10: F1-Score = 0.32349949135300105 Precision = 0.6309523809523809 Recall = 0.21751025991792067 Accuracy = 0.9393414211438474 AUC = 0.6042105638917203\n",
      "Best Results\n",
      "{'F1': 0.32349949135300105, 'Precision': 0.6309523809523809, 'Recall': 0.21751025991792067, 'Accuracy': 0.9393414211438474, 'AUC': 0.6042105638917203}\n"
     ]
    }
   ],
   "metadata": {}
  },
  {
   "cell_type": "markdown",
   "source": [
    "Performing predictions on the test set"
   ],
   "metadata": {}
  },
  {
   "cell_type": "code",
   "execution_count": 74,
   "source": [
    "loaded_model = pickle.load(open(\"model.sav\", 'rb'))\r\n",
    "\r\n",
    "test_df = pd.read_csv(\"Datasets/teste.csv\")\r\n",
    "\r\n",
    "imp = SimpleImputer(missing_values=np.nan, strategy='constant', fill_value=0)\r\n",
    "\r\n",
    "X_test = imp.fit_transform(test_df)\r\n",
    "\r\n",
    "scaler = StandardScaler()\r\n",
    "\r\n",
    "X_test = scaler.fit_transform(X_test)\r\n",
    "\r\n",
    "test_df[\"inadimplente\"] = loaded_model.predict(X_test)\r\n",
    "\r\n",
    "test_df.to_csv(\"Datasets/teste_pred.csv\", index=0)"
   ],
   "outputs": [],
   "metadata": {}
  }
 ],
 "metadata": {
  "orig_nbformat": 4,
  "language_info": {
   "name": "python",
   "version": "3.7.9",
   "mimetype": "text/x-python",
   "codemirror_mode": {
    "name": "ipython",
    "version": 3
   },
   "pygments_lexer": "ipython3",
   "nbconvert_exporter": "python",
   "file_extension": ".py"
  },
  "kernelspec": {
   "name": "python3",
   "display_name": "Python 3.7.9 64-bit"
  },
  "interpreter": {
   "hash": "0973d6013fea1e6f7f2f9c6aadc5d90f95a3cc4fae2d49d683c1580432583f3b"
  }
 },
 "nbformat": 4,
 "nbformat_minor": 2
}